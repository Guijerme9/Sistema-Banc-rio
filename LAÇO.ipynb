{
  "nbformat": 4,
  "nbformat_minor": 0,
  "metadata": {
    "colab": {
      "provenance": [],
      "authorship_tag": "ABX9TyMtWW63y6GMMLr/NdpgczrB",
      "include_colab_link": true
    },
    "kernelspec": {
      "name": "python3",
      "display_name": "Python 3"
    },
    "language_info": {
      "name": "python"
    }
  },
  "cells": [
    {
      "cell_type": "markdown",
      "metadata": {
        "id": "view-in-github",
        "colab_type": "text"
      },
      "source": [
        "<a href=\"https://colab.research.google.com/github/Guijerme9/Sistema-Banc-rio/blob/main/LA%C3%87O.ipynb\" target=\"_parent\"><img src=\"https://colab.research.google.com/assets/colab-badge.svg\" alt=\"Open In Colab\"/></a>"
      ]
    },
    {
      "cell_type": "code",
      "execution_count": 1,
      "metadata": {
        "colab": {
          "base_uri": "https://localhost:8080/"
        },
        "id": "N7coWlr-GMKz",
        "outputId": "de3231de-7e6c-4f0a-bb7e-085ac4e1dfe4"
      },
      "outputs": [
        {
          "output_type": "stream",
          "name": "stdout",
          "text": [
            "\n",
            "Olá, Bem-vindo ao seu banco virtual.\n",
            "------------------------------------\n",
            "1 - Consultar Saldo\n",
            "2 - Depositar\n",
            " 3 - Sacar\n",
            " 4 - Sair\n",
            "------------------------------------\n",
            "Digite a opção desejada: 1\n",
            "Seu saldo atual é: R$ 1000.00\n",
            "\n",
            "Olá, Bem-vindo ao seu banco virtual.\n",
            "------------------------------------\n",
            "1 - Consultar Saldo\n",
            "2 - Depositar\n",
            " 3 - Sacar\n",
            " 4 - Sair\n",
            "------------------------------------\n",
            "Digite a opção desejada: 2\n",
            "Digite o valor a depositar: R$ 1000\n",
            "Depósito de R$ 1000.00 realizado com sucesso\n",
            "\n",
            "Olá, Bem-vindo ao seu banco virtual.\n",
            "------------------------------------\n",
            "1 - Consultar Saldo\n",
            "2 - Depositar\n",
            " 3 - Sacar\n",
            " 4 - Sair\n",
            "------------------------------------\n",
            "Digite a opção desejada: 1\n",
            "Seu saldo atual é: R$ 2000.00\n",
            "\n",
            "Olá, Bem-vindo ao seu banco virtual.\n",
            "------------------------------------\n",
            "1 - Consultar Saldo\n",
            "2 - Depositar\n",
            " 3 - Sacar\n",
            " 4 - Sair\n",
            "------------------------------------\n",
            "Digite a opção desejada: 3\n",
            "Digite o valor a sacar: R$ 2000\n",
            "Saque de R$ 2000.00 realizado com sucesso.\n",
            "\n",
            "Olá, Bem-vindo ao seu banco virtual.\n",
            "------------------------------------\n",
            "1 - Consultar Saldo\n",
            "2 - Depositar\n",
            " 3 - Sacar\n",
            " 4 - Sair\n",
            "------------------------------------\n",
            "Digite a opção desejada: 1\n",
            "Seu saldo atual é: R$ 0.00\n",
            "\n",
            "Olá, Bem-vindo ao seu banco virtual.\n",
            "------------------------------------\n",
            "1 - Consultar Saldo\n",
            "2 - Depositar\n",
            " 3 - Sacar\n",
            " 4 - Sair\n",
            "------------------------------------\n",
            "Digite a opção desejada: 4\n",
            "Obrigado por utilizar nosso banco virtual!\n"
          ]
        }
      ],
      "source": [
        "saldo = 1000.0 #Saldo inicial (você pode alterar este valor)\n",
        "\n",
        "def consultar_saldo():\n",
        "    \"\"\"Exibe o saldo atual.\"\"\"\n",
        "    print(f\"Seu saldo atual é: R$ {saldo:.2f}\")\n",
        "\n",
        "def sacar():\n",
        "    \"\"\"Realiza a operação de saque, verificando o saldo.\"\"\"\n",
        "    global saldo #Indica que estamos modificando a variável global saldo\n",
        "    valor_saque = float(input(\"Digite o valor a sacar: R$ \"))\n",
        "    if valor_saque <= saldo:\n",
        "        saldo -= valor_saque\n",
        "        print(f\"Saque de R$ {valor_saque:.2f} realizado com sucesso.\")\n",
        "    else:\n",
        "        print(\"Saldo insuficiente.\")\n",
        "\n",
        "def depositar():\n",
        "    \"\"\"Realiza a operação de depósito.\"\"\"\n",
        "    global saldo #Indica que estamos modoficando a variável global saldo\n",
        "    valor_deposito = float(input(\"Digite o valor a depositar: R$ \"))\n",
        "    saldo += valor_deposito\n",
        "    print(f\"Depósito de R$ {valor_deposito:.2f} realizado com sucesso\")\n",
        "\n",
        "while True:\n",
        "    #Exibir mensagem de boas-vindas e as opções do menu\n",
        "    print(\"\\nOlá, Bem-vindo ao seu banco virtual.\")\n",
        "    print(\"------------------------------------\")\n",
        "    print(\"1 - Consultar Saldo\")\n",
        "    print(\"2 - Depositar\")\n",
        "    print(\" 3 - Sacar\")\n",
        "    print(\" 4 - Sair\")\n",
        "    print(\"------------------------------------\")\n",
        "\n",
        "    #Ler a opção do usuário\n",
        "    opcao_str = input(\"Digite a opção desejada: \")\n",
        "\n",
        "    #Validar a opção do usuário usando um laço while\n",
        "    while not opcao_str.isdigit() or not (1 <= int(opcao_str) <= 4):\n",
        "        print(\"Opção inválida. Por favor, digite um número entre 1 e 4.\")\n",
        "        opcao_str = input(\"Digite a opção desejada: \")\n",
        "\n",
        "    opcao = int(opcao_str)\n",
        "\n",
        "    #Executar a ação com base na opção do usuário\n",
        "    if opcao == 1:\n",
        "        consultar_saldo()\n",
        "    elif opcao == 2:\n",
        "        depositar()\n",
        "    elif opcao == 3:\n",
        "        sacar()\n",
        "    elif opcao == 4:\n",
        "        print(\"Obrigado por utilizar nosso banco virtual!\")\n",
        "        break #Sai do laco while, encerrando o programa"
      ]
    }
  ]
}