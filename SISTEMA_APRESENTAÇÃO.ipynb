{
  "nbformat": 4,
  "nbformat_minor": 0,
  "metadata": {
    "colab": {
      "provenance": [],
      "authorship_tag": "ABX9TyM4JfPHUleTCTZgadHOmRwz",
      "include_colab_link": true
    },
    "kernelspec": {
      "name": "python3",
      "display_name": "Python 3"
    },
    "language_info": {
      "name": "python"
    }
  },
  "cells": [
    {
      "cell_type": "markdown",
      "metadata": {
        "id": "view-in-github",
        "colab_type": "text"
      },
      "source": [
        "<a href=\"https://colab.research.google.com/github/Guijerme9/Sistema-Banc-rio/blob/main/SISTEMA_APRESENTA%C3%87%C3%83O.ipynb\" target=\"_parent\"><img src=\"https://colab.research.google.com/assets/colab-badge.svg\" alt=\"Open In Colab\"/></a>"
      ]
    },
    {
      "cell_type": "code",
      "execution_count": 4,
      "metadata": {
        "colab": {
          "base_uri": "https://localhost:8080/"
        },
        "id": "azordzh4D-Cn",
        "outputId": "27f3dc92-fa27-4ba2-c187-58601156a65c"
      },
      "outputs": [
        {
          "output_type": "stream",
          "name": "stdout",
          "text": [
            "Olá, Bem-vindo ao seu banco virtual.\n",
            "------------------------------------\n",
            "1 - Consultar Saldo\n",
            "2 - Depositar\n",
            " 3 - Sacar\n",
            " 4 - Sair\n",
            "------------------------------------\n",
            "Digite a opção desejada: 3\n",
            "Digite o valor a sacar: R$ 426\n",
            "Saldo insuficiente.\n"
          ]
        }
      ],
      "source": [
        "# Passo 1: Criar variáveis para representar o saldo e a opção do menu\n",
        "saldo = 0.0 #Saldo inicial (você pode alterar este valor)\n",
        "opcao = 0\n",
        "\n",
        "#Passo 2: Exibir uma mensagem de boas - vindas e as opções do menu\n",
        "print(\"Olá, Bem-vindo ao seu banco virtual.\")\n",
        "print(\"------------------------------------\")\n",
        "print(\"1 - Consultar Saldo\")\n",
        "print(\"2 - Depositar\")\n",
        "print(\" 3 - Sacar\")\n",
        "print(\" 4 - Sair\")\n",
        "print(\"------------------------------------\")\n",
        "\n",
        "#Passo 3: Ler a opção do usuário\n",
        "opcao_str = input(\"Digite a opção desejada: \")\n",
        "\n",
        "#Passo 4: Validar a opção do usuário usando um laço while\n",
        "while not opcao_str.isdigit() or not (1 <= int(opcao_str) <= 4):\n",
        "    print(\"Opção inválida. Por favor, digite um número entre 1 e 4.\")\n",
        "    opcao_str = input(\"Digite a opção desejada: \")\n",
        "\n",
        "opcao = int(opcao_str)\n",
        "\n",
        "#Aqui você pode adicionar a lógica para cada opção do menu\n",
        "if opcao == 1:\n",
        "    print(f\"Seu saldo atual é: R$ {saldo:.2f}\")\n",
        "elif opcao == 2:\n",
        "    valor_deposito = float(input(\"Digite o valor a depositar: R$ \"))\n",
        "    saldo += valor_deposito\n",
        "    print(f\"Depósito de R$ {valor_deposito:.2f} realizado com sucesso.\")\n",
        "    print(f\"Seu novo saldo é: R$ {saldo:.2f}\")\n",
        "elif opcao == 3:\n",
        "    valor_saque = float(input(\"Digite o valor a sacar: R$ \"))\n",
        "    if valor_saque <= saldo:\n",
        "        saldo -= valor_saque\n",
        "        print(f\"Saque de R$ {valor_saque:.2f} realizado com sucesso.\")\n",
        "        print(f\"Seu novo saldo é: R$ {saldo:.2f}\")\n",
        "    else:\n",
        "        print(\"Saldo insuficiente.\")\n",
        "\n",
        "elif opcao == 4:\n",
        "    print(\"Obrigado por utilizar nosso banco virtual!\")\n"
      ]
    }
  ]
}