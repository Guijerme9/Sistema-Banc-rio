{
  "nbformat": 4,
  "nbformat_minor": 0,
  "metadata": {
    "colab": {
      "provenance": [],
      "authorship_tag": "ABX9TyMlyX0PsTqSV7uQnyKosnT1",
      "include_colab_link": true
    },
    "kernelspec": {
      "name": "python3",
      "display_name": "Python 3"
    },
    "language_info": {
      "name": "python"
    }
  },
  "cells": [
    {
      "cell_type": "markdown",
      "metadata": {
        "id": "view-in-github",
        "colab_type": "text"
      },
      "source": [
        "<a href=\"https://colab.research.google.com/github/Guijerme9/Sistema-Banc-rio/blob/main/VALIDA%C3%87%C3%83O_ENTRADA.ipynb\" target=\"_parent\"><img src=\"https://colab.research.google.com/assets/colab-badge.svg\" alt=\"Open In Colab\"/></a>"
      ]
    },
    {
      "cell_type": "code",
      "execution_count": 1,
      "metadata": {
        "colab": {
          "base_uri": "https://localhost:8080/"
        },
        "id": "xA1QXMy8JS1z",
        "outputId": "4e45c79f-ad88-4ba9-9e20-5f5d4013664d"
      },
      "outputs": [
        {
          "output_type": "stream",
          "name": "stdout",
          "text": [
            "\n",
            "--- Bem-vindo ao seu banco virtual ---\n",
            "1 - Consultar Saldo\n",
            "2 - Depositar\n",
            " 3 - Sacar\n",
            " 4 - Sair\n",
            "Digite a opção desejada: 1\n",
            "Seu saldo atual é: R$ 1000.00\n",
            "\n",
            "--- Bem-vindo ao seu banco virtual ---\n",
            "1 - Consultar Saldo\n",
            "2 - Depositar\n",
            " 3 - Sacar\n",
            " 4 - Sair\n",
            "Digite a opção desejada: 2\n",
            "Digite o valor a depositar: R$ 3000\n",
            "Depósito de R$ 3000.000000 realizado com sucesso.\n",
            "Seu novo saldo é: R$ 4000.000000\n",
            "\n",
            "--- Bem-vindo ao seu banco virtual ---\n",
            "1 - Consultar Saldo\n",
            "2 - Depositar\n",
            " 3 - Sacar\n",
            " 4 - Sair\n",
            "Digite a opção desejada: 3\n",
            "Digite o valor a sacar: R$ 5000\n",
            "Saldo insuficiente.\n",
            "\n",
            "--- Bem-vindo ao seu banco virtual ---\n",
            "1 - Consultar Saldo\n",
            "2 - Depositar\n",
            " 3 - Sacar\n",
            " 4 - Sair\n",
            "Digite a opção desejada: 4\n",
            "Obrigado por utilizar nosso banco virtual!\n"
          ]
        }
      ],
      "source": [
        "saldo = 1000.0 #Saldo inicial (você pode alterar este valor)\n",
        "\n",
        "def consultar_saldo():\n",
        "    \"\"\"Exibe o saldo atual\"\"\"\n",
        "    print(f\"Seu saldo atual é: R$ {saldo:.2f}\")\n",
        "\n",
        "def sacar():\n",
        "    \"\"\"Realiza a operação de saque, verificando o saldo.\"\"\"\n",
        "    global saldo\n",
        "    while True:\n",
        "        try:\n",
        "            valor_saque = float(input(\"Digite o valor a sacar: R$ \"))\n",
        "            break #Sai do loop se a entrada for válida\n",
        "        except ValueError:\n",
        "            print(\"Valor inválido. Por favor, digite um número.\")\n",
        "\n",
        "    if valor_saque <= saldo:\n",
        "        saldo -= valor_saque\n",
        "        print(f\"Saque de R$ {valor_saque:2f} realizado com sucesso.\")\n",
        "        print(f\"Seu novo saldo é: R$ {saldo:2f}\")\n",
        "    else:\n",
        "        print(\"Saldo insuficiente.\")\n",
        "\n",
        "def depositar():\n",
        "    \"\"\"Realiza a operação de depósito\"\"\"\n",
        "    global saldo\n",
        "    while True:\n",
        "        try:\n",
        "            valor_deposito = float(input(\"Digite o valor a depositar: R$ \"))\n",
        "            break #Sai do loop se a entrada for válida\n",
        "        except ValueError:\n",
        "            print(\"Valor inválido. Por favor, digite um número.\")\n",
        "    saldo += valor_deposito\n",
        "    print(f\"Depósito de R$ {valor_deposito:2f} realizado com sucesso.\")\n",
        "    print(f\"Seu novo saldo é: R$ {saldo:2f}\")\n",
        "\n",
        "#... (seu código principal com o loop while)\n",
        "while True:\n",
        "    print(\"\\n--- Bem-vindo ao seu banco virtual ---\")\n",
        "    print(\"1 - Consultar Saldo\")\n",
        "    print(\"2 - Depositar\")\n",
        "    print(\" 3 - Sacar\")\n",
        "    print(\" 4 - Sair\")\n",
        "\n",
        "    while True:\n",
        "        try:\n",
        "            opcao_str = input(\"Digite a opção desejada: \")\n",
        "            opcao = int(opcao_str)\n",
        "            if 1 <= opcao <= 4:\n",
        "                break #Sai do loop se a opção for válida\n",
        "            else:\n",
        "                print(\"Opção inválida. Por favor, digite um número entre 1 e 4.\")\n",
        "        except ValueError:\n",
        "            print(\"Opção inválida, digite um número inteiro.\")\n",
        "\n",
        "    if opcao == 1:\n",
        "        consultar_saldo()\n",
        "    elif opcao == 2:\n",
        "        depositar()\n",
        "    elif opcao == 3:\n",
        "        sacar()\n",
        "    elif opcao == 4:\n",
        "        print(\"Obrigado por utilizar nosso banco virtual!\")\n",
        "        break"
      ]
    }
  ]
}